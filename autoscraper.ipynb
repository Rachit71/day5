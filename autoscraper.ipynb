{
 "cells": [
  {
   "cell_type": "code",
   "execution_count": 1,
   "id": "4a3b3e09-e1af-4844-86e2-9ca96f9d782e",
   "metadata": {},
   "outputs": [],
   "source": [
    "from autoscraper import AutoScraper"
   ]
  },
  {
   "cell_type": "code",
   "execution_count": 2,
   "id": "ba31b876-2f46-4452-a9d4-280cc6e35e15",
   "metadata": {},
   "outputs": [],
   "source": [
    "amzon_url=\" https://www.amazon.com/s?k=pc+games\"\n",
    "\n",
    "wanted_list=[\"$39\",\"Assassin's Creed Valhalla: Complete Edition | PC Code - Ubisoft Connect\",\"37\"]\n"
   ]
  },
  {
   "cell_type": "code",
   "execution_count": 3,
   "id": "79eec080-a96f-40a1-bd51-31241c311763",
   "metadata": {},
   "outputs": [
    {
     "name": "stdout",
     "output_type": "stream",
     "text": [
      "['New World Standard Edition (base game) - PC [Online Game Code]', 'PC Game Pass – 3 Month Membership – Windows [Digital Code]', 'New World Deluxe Edition - PC [Online Game Code]', 'Red Dead Redemption 2 - PC [Online Game Code]', 'Dungeons and Dragons Online [Download]', 'Lord Of The Rings Online [Download]', \"Assassin's Creed Valhalla: Complete Edition | PC Code - Ubisoft Connect\", 'HELLDIVERS 2 - Standard - PC [Online Game Code]', 'God of War Standard - PC [Online Game Code]', 'Marvel’s Spider-Man: Miles Morales Standard - PC [Online Game Code]', 'Tom Clancy’s Ghost Recon Breakpoint: Ultimate | PC Code - Ubisoft Connect', \"Marvel's Spider-Man Remastered Standard - PC [Online Game Code]\", 'Command and Conquer The Ultimate Collection – PC Origin [Online Game Code]', 'Dead Space - PC Steam', 'Mafia III: Definitive Edition - Steam PC [Online Game Code]', 'Far Cry 6 Standard Edition | PC Code - Ubisoft Connect', '7,514', '1,712', '6,554', '273', '379', '277', '7', '37', '4', '5', '14', '12', '1,891', '31']\n"
     ]
    }
   ],
   "source": [
    "scraper=AutoScraper()\n",
    "result=scraper.build(amzon_url,wanted_list)\n",
    "print(result)"
   ]
  },
  {
   "cell_type": "code",
   "execution_count": 4,
   "id": "9fe10fb1-fc18-417e-ba51-732d79fc353d",
   "metadata": {},
   "outputs": [
    {
     "data": {
      "text/plain": [
       "{'rule_ewsx': ['PC Game Pass – 3 Month Membership – Windows [Digital Code]',\n",
       "  'Red Dead Redemption 2 - PC [Online Game Code]',\n",
       "  'New World Standard Edition (base game) - PC [Online Game Code]',\n",
       "  \"Assassin's Creed Valhalla: Complete Edition | PC Code - Ubisoft Connect\",\n",
       "  'HELLDIVERS 2 - Standard - PC [Online Game Code]',\n",
       "  'God of War Standard - PC [Online Game Code]',\n",
       "  'Lord Of The Rings Online [Download]',\n",
       "  'New World Deluxe Edition - PC [Online Game Code]',\n",
       "  'Tom Clancy’s Ghost Recon Breakpoint: Ultimate | PC Code - Ubisoft Connect',\n",
       "  'Marvel’s Spider-Man: Miles Morales Standard - PC [Online Game Code]',\n",
       "  \"Marvel's Spider-Man Remastered Standard - PC [Online Game Code]\",\n",
       "  'Command and Conquer The Ultimate Collection – PC Origin [Online Game Code]',\n",
       "  'Dungeons and Dragons Online [Download]',\n",
       "  'Mafia: Trilogy - Steam PC [Online Game Code]',\n",
       "  'Dead Space - PC Steam',\n",
       "  'Mafia III: Definitive Edition - Steam PC [Online Game Code]'],\n",
       " 'rule_flh1': ['PC Game Pass – 3 Month Membership – Windows [Digital Code]',\n",
       "  'Red Dead Redemption 2 - PC [Online Game Code]',\n",
       "  'New World Standard Edition (base game) - PC [Online Game Code]',\n",
       "  \"Assassin's Creed Valhalla: Complete Edition | PC Code - Ubisoft Connect\",\n",
       "  'HELLDIVERS 2 - Standard - PC [Online Game Code]',\n",
       "  'God of War Standard - PC [Online Game Code]',\n",
       "  'Lord Of The Rings Online [Download]',\n",
       "  'New World Deluxe Edition - PC [Online Game Code]',\n",
       "  'Tom Clancy’s Ghost Recon Breakpoint: Ultimate | PC Code - Ubisoft Connect',\n",
       "  'Marvel’s Spider-Man: Miles Morales Standard - PC [Online Game Code]',\n",
       "  \"Marvel's Spider-Man Remastered Standard - PC [Online Game Code]\",\n",
       "  'Command and Conquer The Ultimate Collection – PC Origin [Online Game Code]',\n",
       "  'Dungeons and Dragons Online [Download]',\n",
       "  'Mafia: Trilogy - Steam PC [Online Game Code]',\n",
       "  'Dead Space - PC Steam',\n",
       "  'Mafia III: Definitive Edition - Steam PC [Online Game Code]'],\n",
       " 'rule_w1z5': ['1,712',\n",
       "  '273',\n",
       "  '7,514',\n",
       "  '7',\n",
       "  '37',\n",
       "  '4',\n",
       "  '277',\n",
       "  '6,554',\n",
       "  '14',\n",
       "  '5',\n",
       "  '12',\n",
       "  '1,891',\n",
       "  '379',\n",
       "  '43',\n",
       "  '31',\n",
       "  '14']}"
      ]
     },
     "execution_count": 4,
     "metadata": {},
     "output_type": "execute_result"
    }
   ],
   "source": [
    "scraper.get_result_similar(amzon_url,grouped=True)"
   ]
  },
  {
   "cell_type": "code",
   "execution_count": null,
   "id": "873dd053-14ee-4e7b-816e-53adaec5e70e",
   "metadata": {},
   "outputs": [
    {
     "name": "stdout",
     "output_type": "stream",
     "text": [
      "Scraping category: PC Games\n",
      "Scraping category: Measuring Instruments\n",
      "Scraping category: Travel Adapters\n",
      "Scraping category: Handmade Clothing\n",
      "Scraping category: Dairy Products\n",
      "Scraping category: Nutrition Supplements\n",
      "Scraping category: Writing Instruments\n",
      "Scraping category: Lab Supplies\n"
     ]
    }
   ],
   "source": [
    "import requests\n",
    "from bs4 import BeautifulSoup\n",
    "import pandas as pd\n",
    "import time\n",
    "\n",
    "def get_amazon_product_links(category_url, max_items=100):\n",
    "    headers = {\n",
    "        \"User-Agent\": \"Mozilla/5.0 (Windows NT 10.0; Win64; x64) AppleWebKit/537.36 (KHTML, like Gecko) Chrome/127.0.0.0 Safari/537.36\",\n",
    "        \"Accept-Language\": \"en-US,en;q=0.5\",\n",
    "        \"Referer\": \"https://www.google.com/\",\n",
    "        \"DNT\": \"1\"\n",
    "    }\n",
    "    \n",
    "    product_links = []\n",
    "    page = 1\n",
    "    \n",
    "    while len(product_links) < max_items:\n",
    "        url = f\"{category_url}&page={page}\"\n",
    "        response = requests.get(url, headers=headers)\n",
    "        \n",
    "        if response.status_code != 200:\n",
    "            print(f\"Failed to retrieve page {page} for URL: {url} (Status Code: {response.status_code})\")\n",
    "            break\n",
    "        \n",
    "        soup = BeautifulSoup(response.content, \"html.parser\")\n",
    "        \n",
    "        for a_tag in soup.find_all('a', href=True):\n",
    "            href = a_tag['href']\n",
    "            if '/dp/' in href and href not in product_links:\n",
    "                product_links.append(\"https://www.amazon.in\" + href)\n",
    "                if len(product_links) >= max_items:\n",
    "                    break\n",
    "        \n",
    "        page += 1\n",
    "        time.sleep(2)\n",
    "    \n",
    "    return product_links\n",
    "\n",
    "def scrape_amazon_categories(categories):\n",
    "    all_data = []\n",
    "\n",
    "    for category_name, category_url in categories.items():\n",
    "        print(f\"Scraping category: {category_name}\")\n",
    "        product_links = get_amazon_product_links(category_url)\n",
    "        if product_links:\n",
    "            for link in product_links:\n",
    "                all_data.append([category_name, link])\n",
    "        else:\n",
    "            print(f\"No links retrieved for category: {category_name}\")\n",
    "\n",
    "    return all_data\n",
    "\n",
    "categories = {\n",
    "    \"PC Games\": \"https://www.amazon.com/s?k=pc+games\",\n",
    "    \"Measuring Instruments\": \"https://www.amazon.com/s?k=measuring+instrument\",\n",
    "    \"Travel Adapters\": \"https://www.amazon.com/s?k=travel+adapter\",\n",
    "    \"Handmade Clothing\": \"https://www.amazon.com/s?k=handmade+clothes\",\n",
    "    \"Dairy Products\": \"https://www.amazon.com/s?k=dairy+products\",\n",
    "    \"Nutrition Supplements\": \"https://www.amazon.com/s?k=nutrition+supplement\",\n",
    "    \"Writing Instruments\": \"https://www.amazon.com/s?k=writing+instruments\",\n",
    "    \"Lab Supplies\":\"https://www.amazon.com/s?k=lab+supplies\"\n",
    "   \n",
    "}\n",
    "\n",
    "data = scrape_amazon_categories(categories)\n",
    "\n",
    "if data:\n",
    "    df = pd.DataFrame(data, columns=[\"Category\", \"Product Link\"])\n",
    "    df.to_csv(\"amazon_product_links.csv\", index=False)\n",
    "    print(\"Scraping complete. Data saved to amazon_product_links.csv\")\n",
    "else:\n",
    "    print(\"No data scraped, CSV file not created.\")"
   ]
  },
  {
   "cell_type": "code",
   "execution_count": null,
   "id": "2c803687-73b6-404f-812a-26b8cd2a76f5",
   "metadata": {},
   "outputs": [],
   "source": []
  },
  {
   "cell_type": "code",
   "execution_count": null,
   "id": "fcb9d261-1fa1-4d99-805a-0b5b646d5bcb",
   "metadata": {},
   "outputs": [],
   "source": []
  },
  {
   "cell_type": "code",
   "execution_count": null,
   "id": "d3bf7005-89f9-4909-8089-c85ed4adceac",
   "metadata": {},
   "outputs": [],
   "source": []
  },
  {
   "cell_type": "code",
   "execution_count": null,
   "id": "565433e3-0364-48a2-964e-75fe1d41328f",
   "metadata": {},
   "outputs": [],
   "source": []
  },
  {
   "cell_type": "code",
   "execution_count": null,
   "id": "0aa9b5bd-d875-4fef-be08-17acd01dd49f",
   "metadata": {},
   "outputs": [],
   "source": []
  },
  {
   "cell_type": "code",
   "execution_count": null,
   "id": "9c933c4e-ae0f-4e64-b7e7-98fdcb7074a0",
   "metadata": {},
   "outputs": [],
   "source": []
  },
  {
   "cell_type": "code",
   "execution_count": null,
   "id": "5233a96a-8420-41ee-8c58-6d41df7cca12",
   "metadata": {},
   "outputs": [],
   "source": []
  },
  {
   "cell_type": "code",
   "execution_count": null,
   "id": "ca3a60ec-1890-4e10-a7a7-abb80b8492a5",
   "metadata": {},
   "outputs": [],
   "source": []
  },
  {
   "cell_type": "code",
   "execution_count": null,
   "id": "cd5394ea-2834-48d4-b128-c167c8caba52",
   "metadata": {},
   "outputs": [],
   "source": []
  }
 ],
 "metadata": {
  "kernelspec": {
   "display_name": "Python 3 (ipykernel)",
   "language": "python",
   "name": "python3"
  },
  "language_info": {
   "codemirror_mode": {
    "name": "ipython",
    "version": 3
   },
   "file_extension": ".py",
   "mimetype": "text/x-python",
   "name": "python",
   "nbconvert_exporter": "python",
   "pygments_lexer": "ipython3",
   "version": "3.12.1"
  }
 },
 "nbformat": 4,
 "nbformat_minor": 5
}
